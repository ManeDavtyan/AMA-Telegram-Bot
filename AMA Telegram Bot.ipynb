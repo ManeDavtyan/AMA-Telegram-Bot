{
 "cells": [
  {
   "cell_type": "markdown",
   "metadata": {},
   "source": [
    "# AMA Telegram BOT\n",
    "***Works for channels, groups on Tornado version 4.5.3***"
   ]
  },
  {
   "cell_type": "code",
   "execution_count": null,
   "metadata": {},
   "outputs": [],
   "source": [
    "# Code does not work with new versions of Tornado, therefore we recommend to install version 4.5.3 of tornado."
   ]
  },
  {
   "cell_type": "code",
   "execution_count": null,
   "metadata": {},
   "outputs": [],
   "source": [
    "# !pip uninstall tornado\n",
    "# !pip install tornado==4.5.3\n",
    "# !pip show tornado"
   ]
  },
  {
   "cell_type": "code",
   "execution_count": null,
   "metadata": {},
   "outputs": [],
   "source": [
    "from telethon.tl.functions.channels import GetParticipantsRequest #package for scraping\n",
    "from telethon.tl.types import ChannelParticipantsSearch           #package for scraping\n",
    "from time import sleep                                            \n",
    "from telethon import TelegramClient, events, sync                 #for login in Telegram\n",
    "import telethon.sync                                              #asyncroious, to handle issues   \n",
    "from telethon.tl.types import InputPeerUser,InputPeerEmpty        #defines a user for further interaction.(PeerUser is class, PeerEmpty is an instance)\n",
    "from telethon.sync import TelegramClient                          #handles issues\n",
    "from telethon import functions, types                             #for messages\n",
    "\n",
    "api_id = 1111111   #provide API ID\n",
    "api_hash = \" \"     #provide API HASH\n",
    "phone = \"+37400000000\"   #provide phone number\n",
    "\n",
    "client = TelegramClient(phone, api_id, api_hash) #logs into the system\n",
    "client.start()                                   #logs into the system\n",
    "all_participants = []                            #empty list, for later scraping and sending messages\n",
    " \n",
    "x = input(\"Please provide channel/group name:\") #provide the group/channel's username.\n",
    "offset = 0\n",
    "limit = 200 #depends on a channel, whatever you wish\n",
    "\n",
    "\n",
    "while True: #goes over all participants of the group/channel. Breaks when there is no participant left\n",
    "    participants = client(GetParticipantsRequest(\n",
    "        x, ChannelParticipantsSearch(''), offset, limit,\n",
    "        hash = 0\n",
    "    ))\n",
    "    if not participants.users:\n",
    "        break\n",
    "    all_participants.extend(participants.users)\n",
    "    offset += len(participants.users)      #offset is being added by the length of participants to be iterated over\n",
    "    \n",
    "    \n",
    "not_secure = [] #the list will include those participants who do not have their numbers disclosed\n",
    "receiver = [] #the list includes id and access_hash of users from not_secure list\n",
    "xls = [] #for later xls file usage, to append user.phone\n",
    "for user in all_participants:\n",
    "    sleep(10)\n",
    "    result = client(functions.users.GetFullUserRequest( #you can print results to see the info\n",
    "    id = user))                                           #results contains all the info about all participants\n",
    "    if result.user.phone: #if the user.phone is not empty, the user will be appended to the lists above\n",
    "        not_secure.append(result.user.username)              #not_secure contains people who have their phones open\n",
    "        receiver.append(InputPeerUser(result.user.id,result.user.access_hash))   #recievers contain api hash and id of users \n",
    "        xls.append(user.phone) #appends the phone numbers, for later xls file usage\n",
    "\n",
    "for i in receiver: #send messages via access_hash and api_id\n",
    "    sleep(10)\n",
    "    client.send_message(i, \"Բարև Ձեզ: Այս նամակը Ձեզ է ուղարկվել, քանի որ Ձեր հեռախոսահամարը տեսանելի է Տելեգրամի բոլոր բաժանորդներին: Ձեր իսկ անվտանգությունից ելնելով կխնդրեինք այն դարձնել անհասանելի բոլորի համար:\\n\\nЗдраствуйте дорогой пользователь.Мы обнаружили, что ваш номер телефона виден всем пользователям Телеграмма. Исходя из мер безопасности, советуем вам отключить эту функцию. Благодарим.Будьте осторожны!\\n\\nHi dear user, this message was sent to you, such that your number is visible to all users of Telegram. For the sake of security, we suggest you to hide it. Stay secure!\\n\\n\\nEnglish:\\nSettings --> Privacy and Security --> Phone Number --> Nobody --> Save\\n\\nРусский:\\nНастройки --> Конфиденциальность --> Номер телефона --> Никто --> Сохранить\")\n",
    "    \n",
    "print(\"Congratulations! Your code worked! The message was sent.\")    "
   ]
  },
  {
   "cell_type": "markdown",
   "metadata": {},
   "source": [
    "#### Creates an XLS file containing phone numbers of those who got the message"
   ]
  },
  {
   "cell_type": "code",
   "execution_count": null,
   "metadata": {},
   "outputs": [],
   "source": [
    "import xlsxwriter #package creates Microsoft Excel spreadsheet file\n",
    "\n",
    "workbook = xlsxwriter.Workbook('xls6.xls') #creating a new file\n",
    "worksheet = workbook.add_worksheet() #opens a specific sheet inside the file\n",
    "\n",
    "for row_num, u in enumerate(xls):\n",
    "    worksheet.write(row_num, 0, u) #appends phone numbers of the participants of reciever list\n",
    "\n",
    "workbook.close()"
   ]
  },
  {
   "cell_type": "markdown",
   "metadata": {},
   "source": [
    "#### Creates an XLS file containing usernames of those who got the message (if there are usernames)"
   ]
  },
  {
   "cell_type": "code",
   "execution_count": null,
   "metadata": {},
   "outputs": [],
   "source": [
    "import xlsxwriter #package creates Microsoft Excel spreadsheet file\n",
    "\n",
    "workbook = xlsxwriter.Workbook('xls(6).xls') #creating a new file\n",
    "worksheet = workbook.add_worksheet() #opens a specific sheet inside the file\n",
    "\n",
    "for row_num, u in enumerate(not_secure):\n",
    "    worksheet.write(row_num, 0, u) #appends usernames of the participants of reciever list\n",
    "\n",
    "workbook.close() #closes the file to save the information\n",
    "\n",
    "#please note that this code may not provide all the usernames, such as there are people without usernames"
   ]
  }
 ],
 "metadata": {
  "kernelspec": {
   "display_name": "Python 3",
   "language": "python",
   "name": "python3"
  },
  "language_info": {
   "codemirror_mode": {
    "name": "ipython",
    "version": 3
   },
   "file_extension": ".py",
   "mimetype": "text/x-python",
   "name": "python",
   "nbconvert_exporter": "python",
   "pygments_lexer": "ipython3",
   "version": "3.7.7"
  }
 },
 "nbformat": 4,
 "nbformat_minor": 4
}
